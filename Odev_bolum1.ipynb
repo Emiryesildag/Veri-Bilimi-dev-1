{
 "cells": [
  {
   "cell_type": "markdown",
   "id": "44d30608-fa1f-4775-96ea-5c291b1c72b6",
   "metadata": {},
   "source": [
    "1. Kullanıcıdan adını, yaşını ve boyunu (float) input() ile alınız. Bu bilgileri uygun veri tiplerinde değişkenlerde saklayınız ve ekrana anlamlı bir şekilde yazdırınız."
   ]
  },
  {
   "cell_type": "code",
   "execution_count": 6,
   "id": "723700bd-10b8-480e-bd27-225fd8e50da8",
   "metadata": {},
   "outputs": [
    {
     "name": "stdin",
     "output_type": "stream",
     "text": [
      "Kullanıcı adınızı giriniz: Emir\n",
      "Yaşınızı giriniz: 18\n",
      "Boyunuzu giriniz: 1.75\n"
     ]
    }
   ],
   "source": [
    "kullanici_adi = input(\"Kullanıcı adınızı giriniz:\")\n",
    "kullanici_yasi = int(input(\"Yaşınızı giriniz:\"))\n",
    "kullanici_boyu = float(input(\"Boyunuzu giriniz:\"))"
   ]
  },
  {
   "cell_type": "code",
   "execution_count": 17,
   "id": "e531acb4-d807-4384-9970-dade82d0bc2e",
   "metadata": {},
   "outputs": [
    {
     "name": "stdout",
     "output_type": "stream",
     "text": [
      " Ad: Emir \n",
      " Yaş: 18 \n",
      " Boy 1.75 \n",
      "\n"
     ]
    }
   ],
   "source": [
    "print(\" Ad:\" ,kullanici_adi,\"\\n\",\"Yaş:\" ,kullanici_yasi,\"\\n\",\"Boy\" ,kullanici_boyu,\"\\n\")"
   ]
  },
  {
   "cell_type": "markdown",
   "id": "9d7b2005-7331-4c03-9bda-b11d59227ad5",
   "metadata": {},
   "source": [
    "2. Bir öğrencinin notlarını (Matematik, Fizik, Kimya) int tipinde değişkenlere atayın. Ortalamasını float tipinde hesaplayıp ekrana yazdırınız."
   ]
  },
  {
   "cell_type": "code",
   "execution_count": 22,
   "id": "5c753c14-92ca-4a8d-becf-d39e1fc5dbd2",
   "metadata": {},
   "outputs": [],
   "source": [
    "matematik = 86\n",
    "fizik = 76\n",
    "kimya = 98\n",
    "ortalama = (matematik+fizik+kimya)/ 3"
   ]
  },
  {
   "cell_type": "code",
   "execution_count": 23,
   "id": "0b090241-e7f2-4006-a53b-a51ef22373e5",
   "metadata": {},
   "outputs": [
    {
     "data": {
      "text/plain": [
       "86.66666666666667"
      ]
     },
     "execution_count": 23,
     "metadata": {},
     "output_type": "execute_result"
    }
   ],
   "source": [
    "ortalama"
   ]
  },
  {
   "cell_type": "markdown",
   "id": "8838a71b-3132-44cf-b3f7-0c70d59216db",
   "metadata": {},
   "source": [
    "3. Bir string değişkeni tanımlayın. Bu stringin ilk ve son karakterini, uzunluğunu ve ters çevrilmiş halini ekrana yazdırınız."
   ]
  },
  {
   "cell_type": "code",
   "execution_count": 25,
   "id": "025667f5-beff-4199-a9ad-19aaa00dfda7",
   "metadata": {},
   "outputs": [],
   "source": [
    "string_sample = \"Techcareer\""
   ]
  },
  {
   "cell_type": "code",
   "execution_count": 40,
   "id": "0c9660a6-2feb-4063-a3ec-e25ead9722a0",
   "metadata": {},
   "outputs": [],
   "source": [
    "first_char=string_sample[0]\n",
    "last_char = string_sample[-1]\n",
    "length_char = len(string_sample)\n",
    "reverse_sample = string_sample"
   ]
  },
  {
   "cell_type": "code",
   "execution_count": 42,
   "id": "366218da-d17c-49b7-964b-cceb955aa122",
   "metadata": {},
   "outputs": [
    {
     "name": "stdout",
     "output_type": "stream",
     "text": [
      "T\n",
      "r\n",
      "10\n",
      "reerachceT\n"
     ]
    }
   ],
   "source": [
    "print(first_char, last_char, length_char, reverse_sample[::-1], sep = \"\\n\")"
   ]
  },
  {
   "cell_type": "markdown",
   "id": "8ae886b9-968e-4124-81df-077ef4ae2c7c",
   "metadata": {},
   "source": [
    "4. Kullanıcıdan iki sayı alınız. Bu sayılar üzerinde toplama, çıkarma, çarpma, bölme ve mod işlemleri yapınız.\n",
    "   "
   ]
  },
  {
   "cell_type": "code",
   "execution_count": 45,
   "id": "4be0c3b1-5579-4ca6-89bb-a9bab35bd0a0",
   "metadata": {},
   "outputs": [
    {
     "name": "stdin",
     "output_type": "stream",
     "text": [
      "Bir sayı giriniz: 12\n",
      "Başka bir sayı daha giriniz: 2\n"
     ]
    }
   ],
   "source": [
    "x = int(input(\"Bir sayı giriniz:\"))\n",
    "y = int(input(\"Başka bir sayı daha giriniz:\"))"
   ]
  },
  {
   "cell_type": "code",
   "execution_count": 47,
   "id": "8587b21a-412f-4960-b1ec-8e07b4dea5c3",
   "metadata": {},
   "outputs": [
    {
     "name": "stdout",
     "output_type": "stream",
     "text": [
      "14\n",
      "10\n",
      "24\n",
      "6.0\n",
      "0\n"
     ]
    }
   ],
   "source": [
    "print(x+y, x-y, x*y, x/y, x%y , sep = \"\\n\")"
   ]
  },
  {
   "cell_type": "markdown",
   "id": "84d4ec9e-8678-44ff-8f6a-c264b2c687b6",
   "metadata": {},
   "source": [
    "5. Bir öğrencinin ortalaması 50’den büyükse 'Geçti', değilse 'Kaldı' çıktısını veren bir program yazınız. (Karşılaştırma ve mantıksal operatörler kullanılacak.)"
   ]
  },
  {
   "cell_type": "code",
   "execution_count": 56,
   "id": "6dbf254b-b337-4ec1-a18c-a4574dd6146e",
   "metadata": {},
   "outputs": [],
   "source": [
    "ortalama = 50"
   ]
  },
  {
   "cell_type": "code",
   "execution_count": 58,
   "id": "fd1a447d-99a1-463b-96e1-824e61b0bf82",
   "metadata": {},
   "outputs": [
    {
     "name": "stdout",
     "output_type": "stream",
     "text": [
      "Kaldı\n"
     ]
    }
   ],
   "source": [
    "result = (ortalama>50) * \"Geçti\" + (ortalama<= 50) * \"Kaldı\"\n",
    "print(result)"
   ]
  },
  {
   "cell_type": "markdown",
   "id": "03456980-89b3-4039-b5e7-1841aec06cf2",
   "metadata": {},
   "source": [
    "6. Kullanıcıdan yaşını alınız. Eğer yaş 18’den büyükse 'Ehliyet alabilirsiniz', değilse 'Ehliyet alamazsınız' çıktısı veriniz.\n",
    "   "
   ]
  },
  {
   "cell_type": "code",
   "execution_count": 53,
   "id": "b0be3455-8cf9-456f-98d5-b7f53b943fb2",
   "metadata": {},
   "outputs": [
    {
     "name": "stdin",
     "output_type": "stream",
     "text": [
      "Yaşınızı giriniz: 18\n"
     ]
    }
   ],
   "source": [
    "kullanici_yasi = int(input(\"Yaşınızı giriniz:\"))"
   ]
  },
  {
   "cell_type": "code",
   "execution_count": 60,
   "id": "4dce8528-5b20-4c38-89d6-a991e1542e04",
   "metadata": {},
   "outputs": [
    {
     "name": "stdout",
     "output_type": "stream",
     "text": [
      "Ehliyet alamazsınız\n"
     ]
    }
   ],
   "source": [
    "sonuc = (kullanici_yasi > 18) * \"Ehliyet alabilirsiniz\" + (kullanici_yasi <= 18) * \"Ehliyet alamazsınız\"\n",
    "print(sonuc)"
   ]
  },
  {
   "cell_type": "markdown",
   "id": "694a85f8-cec9-429b-98fa-f43980fe0130",
   "metadata": {},
   "source": [
    "7. Bir ürünün fiyatını (float) ve indirim oranını (yüzde) alınız. İndirimli fiyatı hesaplayıp ekrana yazdırınız. (Aritmetik operatörler kullanılacak.)"
   ]
  },
  {
   "cell_type": "code",
   "execution_count": 62,
   "id": "76d6e059-be82-46a9-858a-a9829c0d309a",
   "metadata": {},
   "outputs": [],
   "source": [
    "fiyat = 99.99\n",
    "indirim_orani = 15\n",
    "indirimli_fiyat = fiyat - (fiyat * (15/100))"
   ]
  },
  {
   "cell_type": "code",
   "execution_count": 64,
   "id": "d551c2e4-2ef7-4882-8491-a8f3dd732b6e",
   "metadata": {},
   "outputs": [
    {
     "name": "stdout",
     "output_type": "stream",
     "text": [
      "84.9915\n"
     ]
    }
   ],
   "source": [
    "print(indirimli_fiyat)"
   ]
  },
  {
   "cell_type": "markdown",
   "id": "45b46ed1-a4a0-4e32-89a3-bdbc6cddc9b9",
   "metadata": {},
   "source": [
    "8. True ve False değerlerini içeren değişkenlerle mantıksal operatörleri (and, or, not) uygulayarak örnekler yapınız ve sonuçlarını ekrana yazdırınız."
   ]
  },
  {
   "cell_type": "code",
   "execution_count": 66,
   "id": "fbe3ab1e-2620-4f63-bd1f-ce8f2dbca2d9",
   "metadata": {},
   "outputs": [
    {
     "data": {
      "text/plain": [
       "True"
      ]
     },
     "execution_count": 66,
     "metadata": {},
     "output_type": "execute_result"
    }
   ],
   "source": [
    "((\"Emir\" == \"emir\") and 12>5) or 1827!= 321"
   ]
  },
  {
   "cell_type": "code",
   "execution_count": 72,
   "id": "94b47966-af14-4785-b539-c241c089cf92",
   "metadata": {},
   "outputs": [
    {
     "data": {
      "text/plain": [
       "True"
      ]
     },
     "execution_count": 72,
     "metadata": {},
     "output_type": "execute_result"
    }
   ],
   "source": [
    "not \"Bilgisayar\" == \"Telefon\" and 43>=43"
   ]
  },
  {
   "cell_type": "markdown",
   "id": "11f70501-3de1-4386-bd81-ee5ce9e6259b",
   "metadata": {},
   "source": [
    "9. Küçük bir alışveriş sepeti uygulaması yapınız:\n",
    "- Kullanıcıdan 3 ürünün fiyatını alınız.\n",
    "- Toplam fiyatı hesaplayınız.\n",
    "- Eğer toplam fiyat 200 TL’den fazlaysa %10 indirim uygulayınız.\n",
    "- Son fiyatı ekrana yazdırınız.\n"
   ]
  },
  {
   "cell_type": "code",
   "execution_count": 78,
   "id": "55d279e8-0cf2-442f-abc9-2bc351424f12",
   "metadata": {},
   "outputs": [
    {
     "name": "stdin",
     "output_type": "stream",
     "text": [
      "Fiyatı giriniz: 210\n",
      "Fiyatı giriniz: 0\n",
      "Fiyatı giriniz: 0\n"
     ]
    }
   ],
   "source": [
    "urun_1 = int(input(\"Fiyatı giriniz:\"))\n",
    "urun_2 = int(input(\"Fiyatı giriniz:\"))\n",
    "urun_3 = int(input(\"Fiyatı giriniz:\"))"
   ]
  },
  {
   "cell_type": "code",
   "execution_count": 79,
   "id": "4c4b7444-5666-46f0-8c1a-9b9a3e10a57f",
   "metadata": {},
   "outputs": [
    {
     "name": "stdout",
     "output_type": "stream",
     "text": [
      "189.0\n"
     ]
    }
   ],
   "source": [
    "toplam_fiyat = urun_1 + urun_2 + urun_3\n",
    "son_fiyat = (toplam_fiyat > 200) * (toplam_fiyat * (9/10)) + (toplam_fiyat<= 200) * toplam_fiyat\n",
    "print(son_fiyat)"
   ]
  },
  {
   "cell_type": "markdown",
   "id": "33a48616-f30c-4cf4-ae78-8aa26a5e64cb",
   "metadata": {},
   "source": [
    "10. Kullanıcıdan doğum yılını alınız. Bu yıl ile güncel yılı kullanarak yaşını hesaplayınız. Yaşına göre şu mesajlardan birini veriniz:\n",
    "- 0-12: 'Çocuksunuz'\n",
    "- 13-17: 'Ergensiniz'\n",
    "- 18 ve üzeri: 'Yetişkinsiniz'\n"
   ]
  },
  {
   "cell_type": "code",
   "execution_count": 90,
   "id": "cc24d727-3a97-49ad-abac-315e4fd5aad3",
   "metadata": {},
   "outputs": [
    {
     "name": "stdin",
     "output_type": "stream",
     "text": [
      "DOğum Yılı: 2005\n"
     ]
    }
   ],
   "source": [
    "dogum_yili = int(input(\"DOğum Yılı:\"))"
   ]
  },
  {
   "cell_type": "code",
   "execution_count": 91,
   "id": "6fbbc1f7-53f8-409f-9d32-fbf6e2271f62",
   "metadata": {},
   "outputs": [
    {
     "name": "stdout",
     "output_type": "stream",
     "text": [
      "Yetişkinsiniz\n"
     ]
    }
   ],
   "source": [
    "yas = 2025 - dogum_yili\n",
    "kategori = (0<=yas<=12) * \"Çocuksunuz\" + (13<=yas<=17) * 'Ergensiniz' + (18<=yas) * 'Yetişkinsiniz'\n",
    "print(kategori)"
   ]
  },
  {
   "cell_type": "code",
   "execution_count": null,
   "id": "23a2560c-a8c7-4a29-b815-0185d8f2e5f7",
   "metadata": {},
   "outputs": [],
   "source": []
  }
 ],
 "metadata": {
  "kernelspec": {
   "display_name": "Python 3 (ipykernel)",
   "language": "python",
   "name": "python3"
  },
  "language_info": {
   "codemirror_mode": {
    "name": "ipython",
    "version": 3
   },
   "file_extension": ".py",
   "mimetype": "text/x-python",
   "name": "python",
   "nbconvert_exporter": "python",
   "pygments_lexer": "ipython3",
   "version": "3.12.7"
  }
 },
 "nbformat": 4,
 "nbformat_minor": 5
}
